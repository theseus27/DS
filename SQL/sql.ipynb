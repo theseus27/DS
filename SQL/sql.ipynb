{
 "cells": [
  {
   "cell_type": "code",
   "execution_count": 88,
   "metadata": {},
   "outputs": [],
   "source": [
    "# Imports\n",
    "from db import connect\n",
    "import pandas as pd\n",
    "import mysql.connector"
   ]
  },
  {
   "cell_type": "code",
   "execution_count": 89,
   "metadata": {},
   "outputs": [],
   "source": [
    "def insert_one(db, name, query):\n",
    "    db.reconnect()\n",
    "    cursor = db.cursor()\n",
    "    try:\n",
    "        cursor.execute(query)\n",
    "        print(\"Inserted \" + name)\n",
    "    except mysql.connector.Error as e:\n",
    "        print(\"FAILED to insert \" + name) \n",
    "        print(e)\n",
    "        return None\n",
    "    finally:\n",
    "        cursor.close()\n",
    "        pass"
   ]
  },
  {
   "cell_type": "code",
   "execution_count": 90,
   "metadata": {},
   "outputs": [],
   "source": [
    "def initialize_expansions(df):\n",
    "    db = connect('pokemondb')\n",
    "\n",
    "    for i in range(len(df)):\n",
    "        id = df.iloc[i]['id']\n",
    "        name = df.iloc[i]['name']\n",
    "        releasedate = df.iloc[i]['releaseDate']\n",
    "        series = df.iloc[i]['series']\n",
    "        total = df.iloc[i]['printedTotal']\n",
    "        fulltotal = df.iloc[i]['total']\n",
    "\n",
    "        query = \"INSERT INTO expansions VALUES (\"+ str(id) + \", \" + str(name) + \", \" + str(releasedate) + \", \" + str(series) + \", \" + str(total) + \", \" + str(fulltotal) + \");\"\n",
    "        print(query)\n",
    "\n",
    "        insert_one(db, name, query)\n",
    "\n",
    "    db.close()"
   ]
  },
  {
   "cell_type": "code",
   "execution_count": 91,
   "metadata": {},
   "outputs": [],
   "source": [
    "def readfile():\n",
    "    # Read into dataframe\n",
    "    df = pd.read_json('setlist.json')\n",
    "\n",
    "    # Get rid of extraneous columns\n",
    "    fields_to_keep = ['id', 'name', 'series', 'printedTotal', 'total', 'ptcgoCode', 'releaseDate']\n",
    "    mylist = list(df)\n",
    "    for col in mylist:\n",
    "        if col not in fields_to_keep:\n",
    "            df.drop(col, axis=1, inplace=True)\n",
    "    #print(df.columns)\n",
    "\n",
    "    # Get rid of extraneous rows\n",
    "    ids_to_keep = ['swsh1', 'swsh2', 'swsh3', 'swsh35', 'swsh4', 'swsh45', 'swsh5', 'swsh6', 'swsh7', 'cel25', 'swsh8', 'swsh9', 'swsh10', 'pgo', 'swsh11', 'swsh12', 'swsh12pt5' 'sv1', 'sv2']\n",
    "    #df.set_index('id')\n",
    "    numrows = len(df)\n",
    " \n",
    "    for i in range(numrows):\n",
    "        if df.loc[i]['id'] not in ids_to_keep:\n",
    "            df.drop(i, axis=0, inplace=True)\n",
    "    \n",
    "    initialize_expansions(df)\n",
    "    return df"
   ]
  },
  {
   "cell_type": "code",
   "execution_count": 92,
   "metadata": {},
   "outputs": [
    {
     "name": "stdout",
     "output_type": "stream",
     "text": [
      "Connected to db pokemondb\n",
      "INSERT INTO expansions VALUES (swsh1, Sword & Shield, 2020/02/07, Sword & Shield, 202, 216);\n",
      "FAILED to insert Sword & Shield\n",
      "1054 (42S22): Unknown column 'swsh1' in 'field list'\n",
      "INSERT INTO expansions VALUES (swsh2, Rebel Clash, 2020/05/01, Sword & Shield, 192, 209);\n",
      "FAILED to insert Rebel Clash\n",
      "1064 (42000): You have an error in your SQL syntax; check the manual that corresponds to your MySQL server version for the right syntax to use near 'Clash, 2020/05/01, Sword & Shield, 192, 209)' at line 1\n",
      "INSERT INTO expansions VALUES (swsh3, Darkness Ablaze, 2020/08/14, Sword & Shield, 189, 201);\n",
      "FAILED to insert Darkness Ablaze\n",
      "1064 (42000): You have an error in your SQL syntax; check the manual that corresponds to your MySQL server version for the right syntax to use near 'Ablaze, 2020/08/14, Sword & Shield, 189, 201)' at line 1\n",
      "INSERT INTO expansions VALUES (swsh35, Champion's Path, 2020/09/25, Sword & Shield, 73, 80);\n",
      "FAILED to insert Champion's Path\n",
      "1064 (42000): You have an error in your SQL syntax; check the manual that corresponds to your MySQL server version for the right syntax to use near ''s Path, 2020/09/25, Sword & Shield, 73, 80)' at line 1\n",
      "INSERT INTO expansions VALUES (swsh4, Vivid Voltage, 2020/11/13, Sword & Shield, 185, 203);\n",
      "FAILED to insert Vivid Voltage\n",
      "1064 (42000): You have an error in your SQL syntax; check the manual that corresponds to your MySQL server version for the right syntax to use near 'Voltage, 2020/11/13, Sword & Shield, 185, 203)' at line 1\n",
      "INSERT INTO expansions VALUES (swsh45, Shining Fates, 2021/02/19, Sword & Shield, 72, 73);\n",
      "FAILED to insert Shining Fates\n",
      "1064 (42000): You have an error in your SQL syntax; check the manual that corresponds to your MySQL server version for the right syntax to use near 'Fates, 2021/02/19, Sword & Shield, 72, 73)' at line 1\n",
      "INSERT INTO expansions VALUES (swsh5, Battle Styles, 2021/03/19, Sword & Shield, 163, 183);\n",
      "FAILED to insert Battle Styles\n",
      "1064 (42000): You have an error in your SQL syntax; check the manual that corresponds to your MySQL server version for the right syntax to use near 'Styles, 2021/03/19, Sword & Shield, 163, 183)' at line 1\n",
      "INSERT INTO expansions VALUES (swsh6, Chilling Reign, 2021/06/18, Sword & Shield, 198, 233);\n",
      "FAILED to insert Chilling Reign\n",
      "1064 (42000): You have an error in your SQL syntax; check the manual that corresponds to your MySQL server version for the right syntax to use near 'Reign, 2021/06/18, Sword & Shield, 198, 233)' at line 1\n",
      "INSERT INTO expansions VALUES (swsh7, Evolving Skies, 2021/08/27, Sword & Shield, 203, 237);\n",
      "FAILED to insert Evolving Skies\n",
      "1064 (42000): You have an error in your SQL syntax; check the manual that corresponds to your MySQL server version for the right syntax to use near 'Skies, 2021/08/27, Sword & Shield, 203, 237)' at line 1\n",
      "INSERT INTO expansions VALUES (cel25, Celebrations, 2021/10/08, Sword & Shield, 25, 25);\n",
      "FAILED to insert Celebrations\n",
      "1054 (42S22): Unknown column 'cel25' in 'field list'\n",
      "INSERT INTO expansions VALUES (swsh8, Fusion Strike, 2021/11/12, Sword & Shield, 264, 284);\n",
      "FAILED to insert Fusion Strike\n",
      "1064 (42000): You have an error in your SQL syntax; check the manual that corresponds to your MySQL server version for the right syntax to use near 'Strike, 2021/11/12, Sword & Shield, 264, 284)' at line 1\n",
      "INSERT INTO expansions VALUES (swsh9, Brilliant Stars, 2022/02/25, Sword & Shield, 172, 186);\n",
      "FAILED to insert Brilliant Stars\n",
      "1064 (42000): You have an error in your SQL syntax; check the manual that corresponds to your MySQL server version for the right syntax to use near 'Stars, 2022/02/25, Sword & Shield, 172, 186)' at line 1\n",
      "INSERT INTO expansions VALUES (swsh10, Astral Radiance, 2022/05/27, Sword & Shield, 189, 216);\n",
      "FAILED to insert Astral Radiance\n",
      "1064 (42000): You have an error in your SQL syntax; check the manual that corresponds to your MySQL server version for the right syntax to use near 'Radiance, 2022/05/27, Sword & Shield, 189, 216)' at line 1\n",
      "INSERT INTO expansions VALUES (pgo, Pokémon GO, 2022/07/01, Sword & Shield, 78, 88);\n",
      "FAILED to insert Pokémon GO\n",
      "1064 (42000): You have an error in your SQL syntax; check the manual that corresponds to your MySQL server version for the right syntax to use near 'GO, 2022/07/01, Sword & Shield, 78, 88)' at line 1\n",
      "INSERT INTO expansions VALUES (swsh11, Lost Origin, 2022/09/09, Sword & Shield, 196, 217);\n",
      "FAILED to insert Lost Origin\n",
      "1064 (42000): You have an error in your SQL syntax; check the manual that corresponds to your MySQL server version for the right syntax to use near 'Origin, 2022/09/09, Sword & Shield, 196, 217)' at line 1\n",
      "INSERT INTO expansions VALUES (swsh12, Silver Tempest, 2022/11/11, Sword & Shield, 195, 215);\n",
      "FAILED to insert Silver Tempest\n",
      "1064 (42000): You have an error in your SQL syntax; check the manual that corresponds to your MySQL server version for the right syntax to use near 'Tempest, 2022/11/11, Sword & Shield, 195, 215)' at line 1\n",
      "INSERT INTO expansions VALUES (sv2, Paldea Evolved, 2023/06/09, Scarlet & Violet, 193, 270);\n",
      "FAILED to insert Paldea Evolved\n",
      "1064 (42000): You have an error in your SQL syntax; check the manual that corresponds to your MySQL server version for the right syntax to use near 'Evolved, 2023/06/09, Scarlet & Violet, 193, 270)' at line 1\n"
     ]
    }
   ],
   "source": [
    "df = readfile()"
   ]
  },
  {
   "cell_type": "code",
   "execution_count": null,
   "metadata": {},
   "outputs": [],
   "source": []
  }
 ],
 "metadata": {
  "kernelspec": {
   "display_name": "Python 3",
   "language": "python",
   "name": "python3"
  },
  "language_info": {
   "codemirror_mode": {
    "name": "ipython",
    "version": 3
   },
   "file_extension": ".py",
   "mimetype": "text/x-python",
   "name": "python",
   "nbconvert_exporter": "python",
   "pygments_lexer": "ipython3",
   "version": "3.11.1"
  },
  "orig_nbformat": 4
 },
 "nbformat": 4,
 "nbformat_minor": 2
}
