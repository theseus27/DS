{
 "cells": [
  {
   "cell_type": "code",
   "execution_count": 1,
   "id": "6e9d0d10",
   "metadata": {},
   "outputs": [],
   "source": [
    "import pandas as pd"
   ]
  },
  {
   "attachments": {},
   "cell_type": "markdown",
   "id": "764e28aa",
   "metadata": {},
   "source": [
    "### Creating a Dataframe from a list of lists\n",
    "pd.DataFrame(listName, columns=[])"
   ]
  },
  {
   "cell_type": "code",
   "execution_count": 35,
   "id": "e488ffae",
   "metadata": {},
   "outputs": [],
   "source": [
    "sample_data = [[\"Theseus\", 20, \"Tufts\", None], [\"Keagan\", 21, \"UofM\", \"Darin\"], [\"Jimmy\", 21, \"Tufts\", \"Alyssa\"], [\"Piplup\", 2, None, None]]\n",
    "df = pd.DataFrame(sample_data, columns=[\"Name\", \"Age\", \"School\", \"Partner\"])"
   ]
  },
  {
   "attachments": {},
   "cell_type": "markdown",
   "id": "dd008400",
   "metadata": {},
   "source": [
    "### Changing dtype\n",
    "astype('') - int, object, bool, etc.\n",
    "\n",
    "Can set flag errors='ignore', will return original on error"
   ]
  },
  {
   "cell_type": "code",
   "execution_count": 4,
   "id": "ddac3ea4",
   "metadata": {
    "collapsed": true
   },
   "outputs": [
    {
     "data": {
      "text/plain": [
       "0    Theseus\n",
       "1     Keagan\n",
       "2      Jimmy\n",
       "3     Piplup\n",
       "Name: Name, dtype: object"
      ]
     },
     "execution_count": 4,
     "metadata": {},
     "output_type": "execute_result"
    }
   ],
   "source": [
    "df['Name'].astype('int', errors='ignore')"
   ]
  },
  {
   "attachments": {},
   "cell_type": "markdown",
   "id": "e5fee705",
   "metadata": {},
   "source": [
    "### Check if column name exists"
   ]
  },
  {
   "cell_type": "code",
   "execution_count": 5,
   "id": "4c9fc821",
   "metadata": {
    "collapsed": true
   },
   "outputs": [
    {
     "name": "stdout",
     "output_type": "stream",
     "text": [
      "False\n"
     ]
    }
   ],
   "source": [
    "# Can either do in df.columns or in df\n",
    "\n",
    "if 'Nam' in df.columns:\n",
    "    print(True)\n",
    "else:\n",
    "    print(False)"
   ]
  },
  {
   "attachments": {},
   "cell_type": "markdown",
   "id": "4a40afb4",
   "metadata": {},
   "source": [
    "### Query\n",
    "Takes something like:      df[(df['International plan'] == 'No') & (df['Churn'] == False)]  \n",
    "And simplifies it to something like:  df.query(\"`International plan` == 'No' & Churn == False\")"
   ]
  },
  {
   "cell_type": "code",
   "execution_count": 5,
   "id": "089ce6f5",
   "metadata": {
    "collapsed": true
   },
   "outputs": [
    {
     "data": {
      "text/html": [
       "<div>\n",
       "<style scoped>\n",
       "    .dataframe tbody tr th:only-of-type {\n",
       "        vertical-align: middle;\n",
       "    }\n",
       "\n",
       "    .dataframe tbody tr th {\n",
       "        vertical-align: top;\n",
       "    }\n",
       "\n",
       "    .dataframe thead th {\n",
       "        text-align: right;\n",
       "    }\n",
       "</style>\n",
       "<table border=\"1\" class=\"dataframe\">\n",
       "  <thead>\n",
       "    <tr style=\"text-align: right;\">\n",
       "      <th></th>\n",
       "      <th>Name</th>\n",
       "    </tr>\n",
       "  </thead>\n",
       "  <tbody>\n",
       "    <tr>\n",
       "      <th>1</th>\n",
       "      <td>Keagan</td>\n",
       "    </tr>\n",
       "    <tr>\n",
       "      <th>2</th>\n",
       "      <td>Jimmy</td>\n",
       "    </tr>\n",
       "  </tbody>\n",
       "</table>\n",
       "</div>"
      ],
      "text/plain": [
       "     Name\n",
       "1  Keagan\n",
       "2   Jimmy"
      ]
     },
     "execution_count": 5,
     "metadata": {},
     "output_type": "execute_result"
    }
   ],
   "source": [
    "# Is Empty\n",
    "df.query(\"Partner.isna() == False\")\n",
    "\n",
    "# String Equals\n",
    "df.query(\"Name == 'Theseus'\")\n",
    "\n",
    "# Compare Against Variable\n",
    "val = 21\n",
    "df.query(\"Age >= @val\")\n",
    "\n",
    "# If you only want to see certain fields from the results, ex. just the names of those older than 21, you can do that with the [[]] thing\n",
    "df.query(\"Age >= @val\")[[\"Name\"]]"
   ]
  },
  {
   "attachments": {},
   "cell_type": "markdown",
   "id": "c7d43e2e",
   "metadata": {},
   "source": [
    "### Eval\n",
    "Takes something like: df['New Column'] = df['Total intl minutes'] + df['Total night minutes']  \n",
    "And simplifies to: df['New Column'] = df.eval('`Total intl minutes` + `Total night minutes`)"
   ]
  },
  {
   "cell_type": "code",
   "execution_count": 7,
   "id": "195e13ff",
   "metadata": {
    "collapsed": true
   },
   "outputs": [
    {
     "data": {
      "text/html": [
       "<div>\n",
       "<style scoped>\n",
       "    .dataframe tbody tr th:only-of-type {\n",
       "        vertical-align: middle;\n",
       "    }\n",
       "\n",
       "    .dataframe tbody tr th {\n",
       "        vertical-align: top;\n",
       "    }\n",
       "\n",
       "    .dataframe thead th {\n",
       "        text-align: right;\n",
       "    }\n",
       "</style>\n",
       "<table border=\"1\" class=\"dataframe\">\n",
       "  <thead>\n",
       "    <tr style=\"text-align: right;\">\n",
       "      <th></th>\n",
       "      <th>Name</th>\n",
       "      <th>Age</th>\n",
       "      <th>School</th>\n",
       "      <th>Partner</th>\n",
       "      <th>Points</th>\n",
       "    </tr>\n",
       "  </thead>\n",
       "  <tbody>\n",
       "    <tr>\n",
       "      <th>0</th>\n",
       "      <td>Theseus</td>\n",
       "      <td>20</td>\n",
       "      <td>Tufts</td>\n",
       "      <td>None</td>\n",
       "      <td>21</td>\n",
       "    </tr>\n",
       "    <tr>\n",
       "      <th>1</th>\n",
       "      <td>Keagan</td>\n",
       "      <td>21</td>\n",
       "      <td>UofM</td>\n",
       "      <td>Darin</td>\n",
       "      <td>21</td>\n",
       "    </tr>\n",
       "    <tr>\n",
       "      <th>2</th>\n",
       "      <td>Jimmy</td>\n",
       "      <td>21</td>\n",
       "      <td>Tufts</td>\n",
       "      <td>Alyssa</td>\n",
       "      <td>21</td>\n",
       "    </tr>\n",
       "    <tr>\n",
       "      <th>3</th>\n",
       "      <td>Piplup</td>\n",
       "      <td>2</td>\n",
       "      <td>None</td>\n",
       "      <td>None</td>\n",
       "      <td>3</td>\n",
       "    </tr>\n",
       "  </tbody>\n",
       "</table>\n",
       "</div>"
      ],
      "text/plain": [
       "      Name  Age School Partner  Points\n",
       "0  Theseus   20  Tufts    None      21\n",
       "1   Keagan   21   UofM   Darin      21\n",
       "2    Jimmy   21  Tufts  Alyssa      21\n",
       "3   Piplup    2   None    None       3"
      ]
     },
     "execution_count": 7,
     "metadata": {},
     "output_type": "execute_result"
    }
   ],
   "source": [
    "df[\"Points\"] = df.eval('Age + Partner.isna()')\n",
    "df"
   ]
  },
  {
   "attachments": {},
   "cell_type": "markdown",
   "id": "bfb0a134",
   "metadata": {},
   "source": [
    "### Iter"
   ]
  },
  {
   "cell_type": "code",
   "execution_count": null,
   "id": "373735eb",
   "metadata": {},
   "outputs": [],
   "source": []
  },
  {
   "attachments": {},
   "cell_type": "markdown",
   "id": "0f7abf91",
   "metadata": {},
   "source": [
    "### Series\n",
    "A dataframe is basically a list of index:series pairs"
   ]
  },
  {
   "cell_type": "code",
   "execution_count": 34,
   "id": "8339edd6",
   "metadata": {},
   "outputs": [
    {
     "name": "stdout",
     "output_type": "stream",
     "text": [
      "Nome       Theseus\n",
      "Age             20\n",
      "School       Tufts\n",
      "Partner       None\n",
      "Name: 0, dtype: object \n",
      "\n",
      "\n",
      "Nome       Keagan\n",
      "Age            21\n",
      "School       UofM\n",
      "Partner     Darin\n",
      "Name: 1, dtype: object \n",
      "\n",
      "\n",
      "Nome        Jimmy\n",
      "Age            21\n",
      "School      Tufts\n",
      "Partner    Alyssa\n",
      "Name: 2, dtype: object \n",
      "\n",
      "\n",
      "Nome       Piplup\n",
      "Age             2\n",
      "School       None\n",
      "Partner      None\n",
      "Name: 3, dtype: object \n",
      "\n",
      "\n"
     ]
    },
    {
     "data": {
      "text/html": [
       "<div>\n",
       "<style scoped>\n",
       "    .dataframe tbody tr th:only-of-type {\n",
       "        vertical-align: middle;\n",
       "    }\n",
       "\n",
       "    .dataframe tbody tr th {\n",
       "        vertical-align: top;\n",
       "    }\n",
       "\n",
       "    .dataframe thead th {\n",
       "        text-align: right;\n",
       "    }\n",
       "</style>\n",
       "<table border=\"1\" class=\"dataframe\">\n",
       "  <thead>\n",
       "    <tr style=\"text-align: right;\">\n",
       "      <th></th>\n",
       "      <th>Nome</th>\n",
       "      <th>Age</th>\n",
       "      <th>School</th>\n",
       "      <th>Partner</th>\n",
       "    </tr>\n",
       "  </thead>\n",
       "  <tbody>\n",
       "    <tr>\n",
       "      <th>0</th>\n",
       "      <td>Theseus</td>\n",
       "      <td>20</td>\n",
       "      <td>Tufts</td>\n",
       "      <td>None</td>\n",
       "    </tr>\n",
       "    <tr>\n",
       "      <th>1</th>\n",
       "      <td>Keagan</td>\n",
       "      <td>21</td>\n",
       "      <td>UofM</td>\n",
       "      <td>Darin</td>\n",
       "    </tr>\n",
       "    <tr>\n",
       "      <th>2</th>\n",
       "      <td>Jimmy</td>\n",
       "      <td>21</td>\n",
       "      <td>Tufts</td>\n",
       "      <td>Alyssa</td>\n",
       "    </tr>\n",
       "    <tr>\n",
       "      <th>3</th>\n",
       "      <td>Piplup</td>\n",
       "      <td>2</td>\n",
       "      <td>None</td>\n",
       "      <td>None</td>\n",
       "    </tr>\n",
       "  </tbody>\n",
       "</table>\n",
       "</div>"
      ],
      "text/plain": [
       "      Nome  Age School Partner\n",
       "0  Theseus   20  Tufts    None\n",
       "1   Keagan   21   UofM   Darin\n",
       "2    Jimmy   21  Tufts  Alyssa\n",
       "3   Piplup    2   None    None"
      ]
     },
     "execution_count": 34,
     "metadata": {},
     "output_type": "execute_result"
    }
   ],
   "source": [
    "for i in range(len(df)):\n",
    "    obj = pd.Series(df.iloc[i])\n",
    "    print(obj, \"\\n\\n\")\n",
    "df"
   ]
  },
  {
   "attachments": {},
   "cell_type": "markdown",
   "id": "092b1d0d",
   "metadata": {},
   "source": [
    "### Practice Using Lambda"
   ]
  },
  {
   "cell_type": "code",
   "execution_count": 17,
   "id": "1ab75dbd",
   "metadata": {},
   "outputs": [
    {
     "data": {
      "text/html": [
       "<div>\n",
       "<style scoped>\n",
       "    .dataframe tbody tr th:only-of-type {\n",
       "        vertical-align: middle;\n",
       "    }\n",
       "\n",
       "    .dataframe tbody tr th {\n",
       "        vertical-align: top;\n",
       "    }\n",
       "\n",
       "    .dataframe thead th {\n",
       "        text-align: right;\n",
       "    }\n",
       "</style>\n",
       "<table border=\"1\" class=\"dataframe\">\n",
       "  <thead>\n",
       "    <tr style=\"text-align: right;\">\n",
       "      <th></th>\n",
       "      <th>Name</th>\n",
       "      <th>Age</th>\n",
       "      <th>School</th>\n",
       "      <th>Partner</th>\n",
       "      <th>hasPartner</th>\n",
       "    </tr>\n",
       "  </thead>\n",
       "  <tbody>\n",
       "    <tr>\n",
       "      <th>0</th>\n",
       "      <td>Theseus</td>\n",
       "      <td>20</td>\n",
       "      <td>Tufts</td>\n",
       "      <td>None</td>\n",
       "      <td>0</td>\n",
       "    </tr>\n",
       "    <tr>\n",
       "      <th>1</th>\n",
       "      <td>Keagan</td>\n",
       "      <td>21</td>\n",
       "      <td>UofM</td>\n",
       "      <td>Darin</td>\n",
       "      <td>1</td>\n",
       "    </tr>\n",
       "    <tr>\n",
       "      <th>2</th>\n",
       "      <td>Jimmy</td>\n",
       "      <td>21</td>\n",
       "      <td>Tufts</td>\n",
       "      <td>Alyssa</td>\n",
       "      <td>1</td>\n",
       "    </tr>\n",
       "    <tr>\n",
       "      <th>3</th>\n",
       "      <td>Piplup</td>\n",
       "      <td>0</td>\n",
       "      <td>None</td>\n",
       "      <td>None</td>\n",
       "      <td>0</td>\n",
       "    </tr>\n",
       "  </tbody>\n",
       "</table>\n",
       "</div>"
      ],
      "text/plain": [
       "      Name  Age School Partner  hasPartner\n",
       "0  Theseus   20  Tufts    None           0\n",
       "1   Keagan   21   UofM   Darin           1\n",
       "2    Jimmy   21  Tufts  Alyssa           1\n",
       "3   Piplup    0   None    None           0"
      ]
     },
     "execution_count": 17,
     "metadata": {},
     "output_type": "execute_result"
    }
   ],
   "source": [
    "# Display the name and school of anyone who's age is >= 20\n",
    "df.query('Age >= 20')[[\"Name\", \"School\"]]\n",
    "\n",
    "# Items gets each column NOT each row\n",
    "for colName, values in df.items():\n",
    "    pass\n",
    "\n",
    "# Set age to 0 if school == None\n",
    "for i in range(len(df)):\n",
    "    df.loc[i, 'Age'] = 0 if df.loc[i, 'School'] == None else df.loc[i, 'Age']\n",
    "\n",
    "\n",
    "# Can rlly only use lambda if you only need to access one field on the right side\n",
    "df['hasPartner'] = df['Partner'].apply(lambda x: 1 if x else 0)\n",
    "df\n"
   ]
  },
  {
   "cell_type": "code",
   "execution_count": 25,
   "id": "adea3f15",
   "metadata": {},
   "outputs": [
    {
     "name": "stdout",
     "output_type": "stream",
     "text": [
      "['Theseus' 'Keagan' 'Jimmy' 'Piplup']\n",
      "[20 21 21  0]\n",
      "['Tufts' 'UofM' 'Tufts' None]\n",
      "[None 'Darin' 'Alyssa' None]\n",
      "[0 1 1 0]\n"
     ]
    }
   ],
   "source": [
    "# Columns\n",
    "for column in df.columns:\n",
    "    col_obj = df[column]\n",
    "    print(col_obj.values)"
   ]
  },
  {
   "attachments": {},
   "cell_type": "markdown",
   "id": "a4505d39",
   "metadata": {},
   "source": [
    "### Drop\n",
    "If you pass in a dataframe via argument, ex def func1(df)\n"
   ]
  },
  {
   "cell_type": "code",
   "execution_count": null,
   "id": "bfab0c07",
   "metadata": {},
   "outputs": [],
   "source": [
    "def func1(df):\n",
    "    # This edits the copy in this function but not the original copy\n",
    "    df = df.drop(\"ColName\", axis=1)\n",
    "\n",
    "    # This edits the copy in this function AND the original copy\n",
    "    df.drop(\"ColName\", axis=1, inplace=True)"
   ]
  }
 ],
 "metadata": {
  "kernelspec": {
   "display_name": "Python 3 (ipykernel)",
   "language": "python",
   "name": "python3"
  },
  "language_info": {
   "codemirror_mode": {
    "name": "ipython",
    "version": 3
   },
   "file_extension": ".py",
   "mimetype": "text/x-python",
   "name": "python",
   "nbconvert_exporter": "python",
   "pygments_lexer": "ipython3",
   "version": "3.11.1"
  }
 },
 "nbformat": 4,
 "nbformat_minor": 5
}
