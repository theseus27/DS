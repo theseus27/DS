{
 "cells": [
  {
   "attachments": {},
   "cell_type": "markdown",
   "metadata": {},
   "source": [
    "#### From app.testdome.com\n",
    "\n",
    ":param train_input_features: (numpy.array) A two-dimensional NumPy array where each element\n",
    "                    is an array that contains: sepal length, sepal width, petal length, and petal width   \n",
    ":param train_outputs: (numpy.array) A one-dimensional NumPy array where each element\n",
    "                    is a number representing the species of iris which is described in\n",
    "                    the same row of train_input_features. 0 represents Iris setosa,\n",
    "                    1 represents Iris versicolor, and 2 represents Iris virginica.\n",
    ":param prediction_features: (numpy.array) A two-dimensional NumPy array where each element\n",
    "                    is an array that contains: sepal length, sepal width, petal length, and petal width\n",
    ":returns: (list) The function should return an iterable (like list or numpy.ndarray) of the predicted \n",
    "                    iris species, one for each item in prediction_features\n"
   ]
  },
  {
   "cell_type": "code",
   "execution_count": null,
   "metadata": {},
   "outputs": [],
   "source": [
    "import numpy as np\n",
    "from sklearn import datasets\n",
    "from sklearn.model_selection import train_test_split\n",
    "from sklearn import metrics\n",
    "from sklearn.linear_model import LinearRegression\n",
    "\n",
    "def train_and_predict(train_input_features, train_outputs, prediction_features):\n",
    " \n",
    "    # Create trained model\n",
    "    model = LinearRegression()\n",
    "    model.fit(train_input_features, train_outputs)\n",
    "    \n",
    "    # Predict results\n",
    "    res = list(model.predict(prediction_features))\n",
    "    \n",
    "    # Round results\n",
    "    for i in range(len(res)):\n",
    "      if res[i] < .5:\n",
    "        res[i] = 0\n",
    "      elif res[i] >= .5 and res[i] < 1.5:\n",
    "        res[i] = 1\n",
    "      else:\n",
    "        res[i] = 2\n",
    "    return res\n",
    "      \n",
    "    \n",
    "iris = datasets.load_iris()\n",
    "X_train, X_test, y_train, y_test = train_test_split(iris.data, iris.target,\n",
    "                                                    test_size=0.3, random_state=0)\n",
    "\n",
    "y_pred = train_and_predict(X_train, y_train, X_test)\n",
    "if y_pred is not None:\n",
    "    print(metrics.accuracy_score(y_test, y_pred))"
   ]
  }
 ],
 "metadata": {
  "language_info": {
   "name": "python"
  },
  "orig_nbformat": 4
 },
 "nbformat": 4,
 "nbformat_minor": 2
}
