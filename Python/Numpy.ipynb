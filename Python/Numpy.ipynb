{
 "cells": [
  {
   "cell_type": "code",
   "execution_count": 2,
   "metadata": {},
   "outputs": [],
   "source": [
    "import numpy as np\n",
    "import pandas as pd"
   ]
  },
  {
   "cell_type": "code",
   "execution_count": 3,
   "metadata": {},
   "outputs": [],
   "source": [
    "sample_data = [[\"Theseus\", 20, \"Tufts\", None], [\"Keagan\", 21, \"UofM\", \"Darin\"], [\"Jimmy\", 21, \"Tufts\", \"Alyssa\"], [\"Piplup\", 2, None, None]]\n",
    "df = pd.DataFrame(sample_data, columns=[\"Name\", \"Age\", \"School\", \"Partner\"])"
   ]
  },
  {
   "attachments": {},
   "cell_type": "markdown",
   "metadata": {},
   "source": [
    "#### Converting from pd to np"
   ]
  },
  {
   "cell_type": "code",
   "execution_count": 6,
   "metadata": {},
   "outputs": [
    {
     "data": {
      "text/plain": [
       "array([['Theseus', 20, 'Tufts', None],\n",
       "       ['Keagan', 21, 'UofM', 'Darin'],\n",
       "       ['Jimmy', 21, 'Tufts', 'Alyssa'],\n",
       "       ['Piplup', 2, None, None]], dtype=object)"
      ]
     },
     "execution_count": 6,
     "metadata": {},
     "output_type": "execute_result"
    }
   ],
   "source": [
    "data_arr = df['Partner'].to_numpy(na_value = \"Pikachu\")\n",
    "data_arr\n",
    "\n",
    "data_arr_2 = df.to_numpy()\n",
    "data_arr_2"
   ]
  },
  {
   "attachments": {},
   "cell_type": "markdown",
   "metadata": {},
   "source": [
    "#### Simple Operations"
   ]
  },
  {
   "cell_type": "code",
   "execution_count": 17,
   "metadata": {},
   "outputs": [
    {
     "data": {
      "text/plain": [
       "array([0.  , 0.25, 0.5 , 0.75, 1.  , 1.25, 1.5 , 1.75])"
      ]
     },
     "execution_count": 17,
     "metadata": {},
     "output_type": "execute_result"
    }
   ],
   "source": [
    "arr = np.array(sample_data)\n",
    "\n",
    "# Create an array of (b-a)/n elements equally spaced at an interval of n between (a, b]\n",
    "# np.arrange(a, b, n) a=start, b=stop, n=interval\n",
    "arr2 = np.arange(0, 2, .25) # => [0, .25, .5, .75, 1, 1.25, 1.5, 1.75]\n",
    "\n",
    "# Selecting array elements\n",
    "x = arr[0]      # One row\n",
    "y = arr[0][0]   # One element\n",
    "\n",
    "# Slicing arrays\n",
    "sliced_arr = arr[:3]\n",
    "\n",
    "# Reshaping arrays\n",
    "reshaped_arr = np.reshape(sliced_arr, (6, 2))\n",
    "reshaped_arr\n",
    "\n",
    "# Splitting arrays\n",
    "\n",
    "\n",
    "# Combining arrays\n",
    "# Numerical operations (min, max, mean, etc)\n",
    "\n"
   ]
  },
  {
   "cell_type": "markdown",
   "metadata": {},
   "source": []
  }
 ],
 "metadata": {
  "kernelspec": {
   "display_name": "Python 3",
   "language": "python",
   "name": "python3"
  },
  "language_info": {
   "codemirror_mode": {
    "name": "ipython",
    "version": 3
   },
   "file_extension": ".py",
   "mimetype": "text/x-python",
   "name": "python",
   "nbconvert_exporter": "python",
   "pygments_lexer": "ipython3",
   "version": "3.11.1"
  },
  "orig_nbformat": 4
 },
 "nbformat": 4,
 "nbformat_minor": 2
}
